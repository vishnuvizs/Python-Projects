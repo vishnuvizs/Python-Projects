{
 "cells": [
  {
   "cell_type": "markdown",
   "id": "0ecc392f",
   "metadata": {},
   "source": [
    "### Wikipedia to Word - A Python Function for Scraping Wikipedia Content to a Word Document"
   ]
  },
  {
   "cell_type": "markdown",
   "id": "30fe2332",
   "metadata": {},
   "source": [
    "This mini-project is a Python function for scraping the text content from a given Wikipedia page and saving it as a Word document (.docx) using the python-docx library. The function takes a Wikipedia URL as input, extracts the page title and the contents of all paragraph tags on the page using Beautiful Soup, and saves the data to a Word document. The resulting file is named after the page title and saved in the working directory. The function provides feedback to the user by printing the name of the saved file."
   ]
  },
  {
   "cell_type": "code",
   "execution_count": 6,
   "id": "a0f0970d",
   "metadata": {},
   "outputs": [],
   "source": [
    "def wikipedia_2_docx(url):\n",
    "    import requests\n",
    "    import docx\n",
    "    from bs4 import BeautifulSoup\n",
    "    r = requests.get(url)\n",
    "    soup = BeautifulSoup(r.content, 'lxml')\n",
    "    title = soup.find(id = 'firstHeading').text\n",
    "    contents = [i.text for i in soup.find_all('p')]\n",
    "    contents = [i.replace('\\n','') for i in contents if i != '\\n']\n",
    "    doc = docx.Document()\n",
    "    doc.add_heading(title)\n",
    "    for i in contents:\n",
    "        doc.add_paragraph(i)\n",
    "    doc.save(f\"{title}.docx\")\n",
    "    print(f'File saved as \"{title}.docx\"')"
   ]
  },
  {
   "cell_type": "code",
   "execution_count": null,
   "id": "17765138",
   "metadata": {},
   "outputs": [],
   "source": [
    "wikipedia_2_docx('https://en.wikipedia.org/wiki/Data_science')"
   ]
  },
  {
   "cell_type": "markdown",
   "id": "16bf13cd",
   "metadata": {},
   "source": [
    "***"
   ]
  }
 ],
 "metadata": {
  "kernelspec": {
   "display_name": "Python 3 (ipykernel)",
   "language": "python",
   "name": "python3"
  },
  "language_info": {
   "codemirror_mode": {
    "name": "ipython",
    "version": 3
   },
   "file_extension": ".py",
   "mimetype": "text/x-python",
   "name": "python",
   "nbconvert_exporter": "python",
   "pygments_lexer": "ipython3",
   "version": "3.10.9"
  }
 },
 "nbformat": 4,
 "nbformat_minor": 5
}
