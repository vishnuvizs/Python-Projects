{
 "cells": [
  {
   "cell_type": "code",
   "execution_count": 1,
   "id": "cdbe1fe4",
   "metadata": {},
   "outputs": [],
   "source": [
    "from tkinter import *\n",
    "from tkinter import messagebox\n",
    "import json\n",
    "import random"
   ]
  },
  {
   "cell_type": "code",
   "execution_count": 2,
   "id": "36c075a2",
   "metadata": {},
   "outputs": [],
   "source": [
    "questions = {1:[\"Entomology is the science that studies?\",\"The origin and history of technical and scientific terms\", \"Behaviour of human beings\",\"Insects\",\"The formation of rocks\",3],\n",
    "             2:[\"For which of the following disciplines is nobel price awarded?\",\"Literature,Peace and Economics\",\"Physics and Chemistry\",\"Physiology or Medicine\",\"All of the above\",4],\n",
    "             3:[\"The Ozone layer restricts\",\"X-ray and gamma rays\", \"visible light\",\"Infrared radiation\",\"Ultraviolet Radiation\",4],\n",
    "             4:[\"Which of the following is indicated by the colour of a star?\",\"Weight\",\"Distance\",\"Temperature\",\"Size\",3],\n",
    "             5:[\"Which of the following is called 'Blue Planet'?\",\"Mercury\",\"Earth\",\"Uranus\",\"Neptune\",2],\n",
    "             6:[\"'OS' computer abbreviation usually means ?\",\"Order of Significance\",\"Open Software\", \"Operating system\",\"Optical Sensor\",3]}"
   ]
  },
  {
   "cell_type": "code",
   "execution_count": 3,
   "id": "72946479",
   "metadata": {},
   "outputs": [
    {
     "name": "stdout",
     "output_type": "stream",
     "text": [
      "Overwriting quiz.json\n"
     ]
    }
   ],
   "source": [
    "%%writefile quiz.json\n",
    "a"
   ]
  },
  {
   "cell_type": "code",
   "execution_count": 4,
   "id": "56a3e3fd",
   "metadata": {},
   "outputs": [],
   "source": [
    "with open(\"quiz.json\",\"w\") as write_file:\n",
    "    json.dump(questions, write_file)"
   ]
  },
  {
   "cell_type": "code",
   "execution_count": 5,
   "id": "9ac5b6b1",
   "metadata": {},
   "outputs": [],
   "source": [
    "with open(\"quiz.json\", \"r\") as read_file:\n",
    "    quiz = json.load(read_file)"
   ]
  },
  {
   "cell_type": "code",
   "execution_count": 6,
   "id": "574636e3",
   "metadata": {},
   "outputs": [],
   "source": [
    "numberofquestions = len(quiz)"
   ]
  },
  {
   "cell_type": "code",
   "execution_count": 7,
   "id": "407e3e31",
   "metadata": {},
   "outputs": [],
   "source": [
    "q = [i for i in range(1, numberofquestions+1)]\n",
    "random.shuffle(q)\n",
    "\n",
    "window = Tk()\n",
    "window.geometry(\"800x500\")\n",
    "window.title(\"Quiz Maker\")\n",
    "\n",
    "mymenu = Menu(window)\n",
    "submenu = Menu(mymenu, tearoff = 0)\n",
    "mymenu.add_cascade(label='File', menu = submenu)\n",
    "window.config(menu=mymenu)\n",
    "submenu.add_command(label = \"New\")\n",
    "submenu.add_separator()\n",
    "submenu.add_command(label = \"Quit\")\n",
    "\n",
    "\n",
    "heading = Label(window,text = \"Quiz Maker\", bg = \"grey\", fg =\"red\",font=(\"Times\", \"25\", \"bold\"))\n",
    "heading.pack(fill = X)\n",
    "\n",
    "var = IntVar()\n",
    "var1 = StringVar()\n",
    "var2 = StringVar()\n",
    "var3 = StringVar()\n",
    "var4 = StringVar()\n",
    "var5 = StringVar()\n",
    "var6 = StringVar()\n",
    "\n",
    "questno = 1\n",
    "    \n",
    "def sel():\n",
    "    label5 = Label(window, fg = \"blue\")\n",
    "    label5.place(x=140, y = 280)\n",
    "    selection = \"You selected the Option \" + str(var.get())\n",
    "    label5.config(text = selection)\n",
    "\n",
    "def game():\n",
    "    questnolabel = Label(window, textvariable = var5, font = (\"Times\", 17), fg = \"green\")\n",
    "    questnolabel.place(x =45, y =60)\n",
    "\n",
    "    questionlabel = Label(window, textvariable = var6 ,font = (\"Comic Sans MS\", 14, \"bold\"))\n",
    "    questionlabel.place(x=100, y = 120)\n",
    "\n",
    "    choice1 = Radiobutton(window, textvariable = var1, font = (\"Helvetica\",12),variable = var, value = 1, command = sel)\n",
    "    choice1.place(x=140,y=160)\n",
    "    choice2 = Radiobutton(window, textvariable = var2, font = (\"Helvetica\",12),variable = var, value = 2, command = sel)\n",
    "    choice2.place(x=140,y=190)\n",
    "    choice3 = Radiobutton(window, textvariable = var3, font = (\"Helvetica\",12),variable = var, value = 3, command = sel)\n",
    "    choice3.place(x=140,y=220)\n",
    "    choice4 = Radiobutton(window, textvariable = var4, font = (\"Helvetica\",12),variable = var, value = 4, command = sel)\n",
    "    choice4.place(x=140,y=250)\n",
    "\n",
    "points = 0\n",
    "\n",
    "label7 = Label(window,fg = \"green\")\n",
    "label7.place(x=170,y=360)\n",
    "\n",
    "def clicked():\n",
    "    global points\n",
    "    global questno\n",
    "    global d\n",
    "    d = False\n",
    "    r = var.get()\n",
    "    if r == quiz[f\"{a}\"][5]:\n",
    "        points += 1\n",
    "        label7.config(text = \"Correct Answer\")\n",
    "    else:\n",
    "        label7.config(text = \"Wrong Answer\")\n",
    "    questno += 1\n",
    "    \n",
    "def variables():\n",
    "    var1.set(quiz[f\"{a}\"][1])\n",
    "    var2.set(quiz[f\"{a}\"][2])\n",
    "    var3.set(quiz[f\"{a}\"][3])\n",
    "    var4.set(quiz[f\"{a}\"][4])\n",
    "    var5.set((f\"Question Number {questno}\"))\n",
    "    var6.set(quiz[f\"{a}\"][0])\n",
    "       \n",
    "d = True\n",
    "\n",
    "for a in q:\n",
    "    variables()\n",
    "    game()\n",
    "    submit = Button(window, text = \"Next\",bg = \"grey\",command = clicked)\n",
    "    submit.place(x=190,y=310)\n",
    "    q.remove(a)\n",
    "    \n",
    "    \n",
    "window.mainloop()"
   ]
  },
  {
   "cell_type": "code",
   "execution_count": null,
   "id": "0dc42305",
   "metadata": {},
   "outputs": [],
   "source": []
  }
 ],
 "metadata": {
  "kernelspec": {
   "display_name": "Python 3 (ipykernel)",
   "language": "python",
   "name": "python3"
  },
  "language_info": {
   "codemirror_mode": {
    "name": "ipython",
    "version": 3
   },
   "file_extension": ".py",
   "mimetype": "text/x-python",
   "name": "python",
   "nbconvert_exporter": "python",
   "pygments_lexer": "ipython3",
   "version": "3.9.12"
  }
 },
 "nbformat": 4,
 "nbformat_minor": 5
}
